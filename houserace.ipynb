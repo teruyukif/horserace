{
  "nbformat": 4,
  "nbformat_minor": 0,
  "metadata": {
    "colab": {
      "provenance": [],
      "authorship_tag": "ABX9TyMSAi9qYM7mUaZSLLVqlC2F",
      "include_colab_link": true
    },
    "kernelspec": {
      "name": "python3",
      "display_name": "Python 3"
    },
    "language_info": {
      "name": "python"
    }
  },
  "cells": [
    {
      "cell_type": "markdown",
      "metadata": {
        "id": "view-in-github",
        "colab_type": "text"
      },
      "source": [
        "<a href=\"https://colab.research.google.com/github/teruyukif/horserace/blob/main/houserace.ipynb\" target=\"_parent\"><img src=\"https://colab.research.google.com/assets/colab-badge.svg\" alt=\"Open In Colab\"/></a>"
      ]
    },
    {
      "cell_type": "code",
      "execution_count": null,
      "metadata": {
        "id": "rrMS9B9E-V27"
      },
      "outputs": [],
      "source": [
        "!pip install google-auth"
      ]
    },
    {
      "cell_type": "code",
      "source": [
        "!pip install gspread"
      ],
      "metadata": {
        "id": "ywGKxlIlAmDH"
      },
      "execution_count": null,
      "outputs": []
    },
    {
      "cell_type": "code",
      "source": [
        "from google.colab import auth\n",
        "auth.authenticate_user()\n",
        "\n",
        "import gspread\n",
        "from google.auth import default\n",
        "creds, _ = default()\n",
        "\n",
        "gc = gspread.authorize(creds)\n",
        "\n",
        "# Open the spreadsheet\n",
        "spreadsheet_url = 'https://docs.google.com/spreadsheets/d/1xzJ3FvgkLUKn72KBRba8-xSxx_eW8ZA8Rg7_46TOelw'\n",
        "doc = gc.open_by_url(spreadsheet_url)\n",
        "\n",
        "# Print the spreadsheet title\n",
        "print(doc.title)\n"
      ],
      "metadata": {
        "colab": {
          "base_uri": "https://localhost:8080/"
        },
        "id": "Pw6w8CFTAn0f",
        "outputId": "d1cb17f4-c0ac-444a-b41e-cde8e1c9d8ac"
      },
      "execution_count": null,
      "outputs": [
        {
          "output_type": "stream",
          "name": "stdout",
          "text": [
            "桜花賞データ\n"
          ]
        }
      ]
    }
  ]
}